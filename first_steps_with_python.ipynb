{
  "nbformat": 4,
  "nbformat_minor": 0,
  "metadata": {
    "colab": {
      "name": "first-steps-with-python.ipynb",
      "provenance": [],
      "include_colab_link": true
    },
    "kernelspec": {
      "display_name": "Python 3",
      "language": "python",
      "name": "python3"
    },
    "language_info": {
      "codemirror_mode": {
        "name": "ipython",
        "version": 3
      },
      "file_extension": ".py",
      "mimetype": "text/x-python",
      "name": "python",
      "nbconvert_exporter": "python",
      "pygments_lexer": "ipython3",
      "version": "3.8.6"
    }
  },
  "cells": [
    {
      "cell_type": "markdown",
      "metadata": {
        "id": "view-in-github",
        "colab_type": "text"
      },
      "source": [
        "<a href=\"https://colab.research.google.com/github/git-pi-e/data-anal-with-python/blob/intro-to-python/first_steps_with_python.ipynb\" target=\"_parent\"><img src=\"https://colab.research.google.com/assets/colab-badge.svg\" alt=\"Open In Colab\"/></a>"
      ]
    },
    {
      "cell_type": "code",
      "metadata": {
        "colab": {
          "base_uri": "https://localhost:8080/"
        },
        "id": "2NVSgTFN7kxK",
        "outputId": "08b2557f-3d5a-4145-ef54-a4873918c581"
      },
      "source": [
        "# Jovian Commit Essentials\n",
        "# Please retain and execute this cell without modifying the contents for `jovian.commit` to work\n",
        "!pip install jovian --upgrade -q\n",
        "import jovian\n",
        "jovian.set_project('first-steps-with-python')\n",
        "jovian.set_colab_id('1zGElOyTj6m5YB0EI8er4Oz9UCtmboArJ')"
      ],
      "execution_count": 1,
      "outputs": [
        {
          "output_type": "stream",
          "text": [
            "\u001b[?25l\r\u001b[K     |████▊                           | 10 kB 22.1 MB/s eta 0:00:01\r\u001b[K     |█████████▌                      | 20 kB 27.0 MB/s eta 0:00:01\r\u001b[K     |██████████████▎                 | 30 kB 12.8 MB/s eta 0:00:01\r\u001b[K     |███████████████████             | 40 kB 9.4 MB/s eta 0:00:01\r\u001b[K     |███████████████████████▉        | 51 kB 5.2 MB/s eta 0:00:01\r\u001b[K     |████████████████████████████▋   | 61 kB 5.6 MB/s eta 0:00:01\r\u001b[K     |████████████████████████████████| 68 kB 2.9 MB/s \n",
            "\u001b[?25h  Building wheel for uuid (setup.py) ... \u001b[?25l\u001b[?25hdone\n"
          ],
          "name": "stdout"
        }
      ]
    },
    {
      "cell_type": "markdown",
      "metadata": {
        "id": "tYApNcA7eHav"
      },
      "source": [
        "# First Steps with Python and Jupyter \n",
        "\n",
        "![](https://i.imgur.com/gvSnw4A.png)\n",
        "\n",
        "### Part 1 of \"Data Analysis with Python: Zero to Pandas\"\n",
        "\n",
        "This tutorial series is a beginner-friendly introduction to programming and data analysis using the Python programming language. These tutorials take a practical and coding-focused approach. The best way to learn the material is to execute the code and experiment with it yourself. Check out the full series here: \n",
        "\n",
        "1. [First Steps with Python and Jupyter](https://jovian.ai/aakashns/first-steps-with-python)\n",
        "2. [A Quick Tour of Variables and Data Types](https://jovian.ai/aakashns/python-variables-and-data-types)\n",
        "3. [Branching using Conditional Statements and Loops](https://jovian.ai/aakashns/python-branching-and-loops)\n",
        "4. [Writing Reusable Code Using Functions](https://jovian.ai/aakashns/python-functions-and-scope)\n",
        "5. [Reading from and Writing to Files](https://jovian.ai/aakashns/python-os-and-filesystem)\n",
        "6. [Numerical Computing with Python and Numpy](https://jovian.ai/aakashns/python-numerical-computing-with-numpy)\n",
        "7. [Analyzing Tabular Data using Pandas](https://jovian.ai/aakashns/python-pandas-data-analysis)\n",
        "8. [Data Visualization using Matplotlib & Seaborn](https://jovian.ai/aakashns/python-matplotlib-data-visualization)\n",
        "9. [Exploratory Data Analysis - A Case Study](https://jovian.ai/aakashns/python-eda-stackoverflow-survey)\n"
      ]
    },
    {
      "cell_type": "markdown",
      "metadata": {
        "id": "rlRo76e9eHaw"
      },
      "source": [
        "This tutorial covers the following topics:\n",
        "\n",
        "* Performing arithmetic operations using Python\n",
        "* Solving multi-step problems using variables\n",
        "* Evaluating conditions using Python\n",
        "* Combining conditions with logical operators\n",
        "* Adding text styles using Markdown"
      ]
    },
    {
      "cell_type": "markdown",
      "metadata": {
        "id": "LVmOsdSjeHax"
      },
      "source": [
        "### How to run the code\n",
        "\n",
        "This tutorial is an executable [Jupyter notebook](https://jupyter.org) hosted on [Jovian](https://www.jovian.ai) (don't worry if these terms seem unfamiliar; we'll learn more about them soon). You can _run_ this tutorial and experiment with the code examples in a couple of ways: *using free online resources* (recommended) or *on your computer*.\n",
        "\n",
        "#### Option 1: Running using free online resources (1-click, recommended)\n",
        "\n",
        "The easiest way to start executing the code is to click the **Run** button at the top of this page and select **Run on Binder**. You can also select \"Run on Colab\" or \"Run on Kaggle\", but you'll need to create an account on [Google Colab](https://colab.research.google.com) or [Kaggle](https://kaggle.com) to use these platforms.\n",
        "\n",
        "\n",
        "#### Option 2: Running on your computer locally\n",
        "\n",
        "To run the code on your computer locally, you'll need to set up [Python](https://www.python.org), download the notebook and install the required libraries. We recommend using the [Conda](https://docs.conda.io/projects/conda/en/latest/user-guide/install/) distribution of Python. Click the **Run** button at the top of this page, select the **Run Locally** option, and follow the instructions.\n",
        "\n",
        ">  **Jupyter Notebooks**: This tutorial is a [Jupyter notebook](https://jupyter.org) - a document made of _cells_. Each cell can contain code written in Python or explanations in plain English. You can execute code cells and view the results, e.g., numbers, messages, graphs, tables, files, etc. instantly within the notebook. Jupyter is a powerful platform for experimentation and analysis. Don't be afraid to mess around with the code & break things - you'll learn a lot by encountering and fixing errors. You can use the \"Kernel > Restart & Clear Output\" menu option to clear all outputs and start again from the top."
      ]
    },
    {
      "cell_type": "markdown",
      "metadata": {
        "id": "nqhlMY7GeHax"
      },
      "source": [
        "## Performing Arithmetic Operations using Python\n",
        "\n",
        "Let's begin by using Python as a calculator. You can write and execute Python using a code cell within Jupyter. \n",
        "\n",
        "> **Working with cells**: To create a new cell within Jupyter, you can select \"Insert > Insert Cell Below\" from the menu bar or just press the \"+\" button on the toolbar. You can also use the keyboard shortcut `Esc+B` to create a new cell. Once a cell is created, click on it to select it. You can then change the cell type to code or markdown (text) using the \"Cell > Cell Type\" menu option. You can also use the keyboard shortcuts `Esc+Y` and `Esc+M`. Double-click a cell to edit the content within the cell. To apply your changes and run a cell, use the \"Cell > Run Cells\" menu option or click the \"Run\" button on the toolbar or just use the keyboard shortcut `Shift+Enter`. You can see a full list of keyboard shortcuts using the \"Help > Keyboard Shortcuts\" menu option.\n",
        "\n",
        "Run the code cells below to perform calculations and view their result. Try changing the numbers and run the modified cells again to see updated results. Can you guess what the `//`, `%`, and `**` operators are used for?"
      ]
    },
    {
      "cell_type": "code",
      "metadata": {
        "colab": {
          "base_uri": "https://localhost:8080/"
        },
        "id": "YxhajxMzeHay",
        "outputId": "d3757fec-55a4-4e20-bc0b-59da95887742"
      },
      "source": [
        "2 + 3 + 9"
      ],
      "execution_count": 2,
      "outputs": [
        {
          "output_type": "execute_result",
          "data": {
            "text/plain": [
              "14"
            ]
          },
          "metadata": {
            "tags": []
          },
          "execution_count": 2
        }
      ]
    },
    {
      "cell_type": "code",
      "metadata": {
        "colab": {
          "base_uri": "https://localhost:8080/"
        },
        "id": "jAeg9xy8eHa0",
        "outputId": "3d45fdec-14ef-4940-b863-b953343b1021"
      },
      "source": [
        "99 - 73"
      ],
      "execution_count": 3,
      "outputs": [
        {
          "output_type": "execute_result",
          "data": {
            "text/plain": [
              "26"
            ]
          },
          "metadata": {
            "tags": []
          },
          "execution_count": 3
        }
      ]
    },
    {
      "cell_type": "code",
      "metadata": {
        "colab": {
          "base_uri": "https://localhost:8080/"
        },
        "id": "3NTJPys-eHa0",
        "scrolled": true,
        "outputId": "6aaa60da-45cb-4cb6-b24d-5310d00d7247"
      },
      "source": [
        "23.54 * -1432"
      ],
      "execution_count": 4,
      "outputs": [
        {
          "output_type": "execute_result",
          "data": {
            "text/plain": [
              "-33709.28"
            ]
          },
          "metadata": {
            "tags": []
          },
          "execution_count": 4
        }
      ]
    },
    {
      "cell_type": "code",
      "metadata": {
        "colab": {
          "base_uri": "https://localhost:8080/"
        },
        "id": "5cdDQOpzeHa1",
        "outputId": "8bb4beb7-6543-47b9-89bc-da740ad771b9"
      },
      "source": [
        "100 / 7"
      ],
      "execution_count": 5,
      "outputs": [
        {
          "output_type": "execute_result",
          "data": {
            "text/plain": [
              "14.285714285714286"
            ]
          },
          "metadata": {
            "tags": []
          },
          "execution_count": 5
        }
      ]
    },
    {
      "cell_type": "code",
      "metadata": {
        "colab": {
          "base_uri": "https://localhost:8080/"
        },
        "id": "WWLkdtBPeHa1",
        "outputId": "dcaa5221-4f34-4d2a-bf69-a450e5c37a8e"
      },
      "source": [
        "100 // 7"
      ],
      "execution_count": 6,
      "outputs": [
        {
          "output_type": "execute_result",
          "data": {
            "text/plain": [
              "14"
            ]
          },
          "metadata": {
            "tags": []
          },
          "execution_count": 6
        }
      ]
    },
    {
      "cell_type": "code",
      "metadata": {
        "colab": {
          "base_uri": "https://localhost:8080/"
        },
        "id": "e7xWY5cDeHa2",
        "outputId": "f0ae72d9-f049-4e93-c272-442719708b59"
      },
      "source": [
        "100 % 7"
      ],
      "execution_count": 7,
      "outputs": [
        {
          "output_type": "execute_result",
          "data": {
            "text/plain": [
              "2"
            ]
          },
          "metadata": {
            "tags": []
          },
          "execution_count": 7
        }
      ]
    },
    {
      "cell_type": "code",
      "metadata": {
        "colab": {
          "base_uri": "https://localhost:8080/"
        },
        "id": "rftYKb4NeHa2",
        "outputId": "316916b9-348d-4e9a-9811-17c32def0963"
      },
      "source": [
        "5 ** 3"
      ],
      "execution_count": 8,
      "outputs": [
        {
          "output_type": "execute_result",
          "data": {
            "text/plain": [
              "125"
            ]
          },
          "metadata": {
            "tags": []
          },
          "execution_count": 8
        }
      ]
    },
    {
      "cell_type": "markdown",
      "metadata": {
        "id": "-qJ2V1tAeHa3"
      },
      "source": [
        "As you might expect, operators like `/` and `*` take precedence over other operators like `+` and `-` as per mathematical conventions. You can use parentheses, i.e. `(` and `)`, to specify the order in which operations are performed."
      ]
    },
    {
      "cell_type": "code",
      "metadata": {
        "colab": {
          "base_uri": "https://localhost:8080/"
        },
        "id": "9NZ16_HOeHa3",
        "outputId": "b7866eaa-874f-420b-a3ac-242f0a7502ea"
      },
      "source": [
        "((2 + 5) * (17 - 3)) / (4 ** 3)"
      ],
      "execution_count": 9,
      "outputs": [
        {
          "output_type": "execute_result",
          "data": {
            "text/plain": [
              "1.53125"
            ]
          },
          "metadata": {
            "tags": []
          },
          "execution_count": 9
        }
      ]
    },
    {
      "cell_type": "markdown",
      "metadata": {
        "id": "pBwYqJ_ueHa3"
      },
      "source": [
        "Python supports the following arithmetic operators:\n",
        "\n",
        "| Operator   | Purpose           | Example     | Result    |\n",
        "|------------|-------------------|-------------|-----------|\n",
        "| `+`        | Addition          | `2 + 3`     | `5`       |\n",
        "| `-`        | Subtraction       | `3 - 2`     | `1`       |\n",
        "| `*`        | Multiplication    | `8 * 12`    | `96`      |\n",
        "| `/`        | Division          | `100 / 7`   | `14.28..` |\n",
        "| `//`       | Floor Division    | `100 // 7`  | `14`      |    \n",
        "| `%`        | Modulus/Remainder | `100 % 7`   | `2`       |\n",
        "| `**`       | Exponent          | `5 ** 3`    | `125`     |\n",
        "\n",
        "\n",
        "Try solving some simple problems from this page:\n",
        "https://www.math-only-math.com/worksheet-on-word-problems-on-four-operations.html . \n",
        "\n",
        "You can use the empty cells below and add more cells if required."
      ]
    },
    {
      "cell_type": "code",
      "metadata": {
        "id": "QkTPoBMgeHa4"
      },
      "source": [
        ""
      ],
      "execution_count": 9,
      "outputs": []
    },
    {
      "cell_type": "code",
      "metadata": {
        "id": "nrOb36QceHa4"
      },
      "source": [
        ""
      ],
      "execution_count": 9,
      "outputs": []
    },
    {
      "cell_type": "code",
      "metadata": {
        "id": "6IqP7hcOeHa5"
      },
      "source": [
        ""
      ],
      "execution_count": 9,
      "outputs": []
    },
    {
      "cell_type": "code",
      "metadata": {
        "id": "0iCPO2FxeHa5"
      },
      "source": [
        ""
      ],
      "execution_count": 9,
      "outputs": []
    },
    {
      "cell_type": "markdown",
      "metadata": {
        "id": "IIWlSkKSeHa5"
      },
      "source": [
        "## Solving multi-step problems using variables\n",
        "\n",
        "Let's try solving the following word problem using Python: \n",
        "\n",
        "> A grocery store sells a bag of ice for $1.25 and makes a 20% profit. If it sells 500 bags of ice, how much total profit does it make?\n",
        "\n",
        "We can list out the information provided and gradually convert the word problem into a mathematical expression that can be evaluated using Python. \n",
        "\n",
        "*Cost of ice bag ($)* = 1.25\n",
        "\n",
        "*Profit margin* = 20% = .2\n",
        "\n",
        "*Profit per bag ($)* = profit margin * cost of ice bag = .2 * 1.25\n",
        "\n",
        "*No. of bags* = 500\n",
        "\n",
        "*Total profit* = no. of bags * profit per bag = 500 * (.2 * 1.25)"
      ]
    },
    {
      "cell_type": "code",
      "metadata": {
        "colab": {
          "base_uri": "https://localhost:8080/"
        },
        "id": "xUnxLA9IeHa5",
        "outputId": "10961f0f-b323-4fd6-b23c-f717c374c53c"
      },
      "source": [
        "500 * (.2 * 1.25)"
      ],
      "execution_count": 10,
      "outputs": [
        {
          "output_type": "execute_result",
          "data": {
            "text/plain": [
              "125.0"
            ]
          },
          "metadata": {
            "tags": []
          },
          "execution_count": 10
        }
      ]
    },
    {
      "cell_type": "markdown",
      "metadata": {
        "id": "bwR9ts0MeHa6"
      },
      "source": [
        "Thus, the grocery store makes a total profit of $125. While this is a reasonable way to solve a problem, it's not entirely clear by looking at the code cell what the numbers represent. We can give names to each of the numbers by creating Python *variables*.\n",
        "\n",
        "> **Variables**: While working with a programming language such as Python, information is stored in *variables*. You can think of variables as containers for storing data. The data stored within a variable is called its *value*."
      ]
    },
    {
      "cell_type": "code",
      "metadata": {
        "id": "5mBj8ZE2eHa6"
      },
      "source": [
        "cost_of_ice_bag = 1.25"
      ],
      "execution_count": 11,
      "outputs": []
    },
    {
      "cell_type": "code",
      "metadata": {
        "id": "EdPYGV4teHa6"
      },
      "source": [
        "profit_margin = .2"
      ],
      "execution_count": 12,
      "outputs": []
    },
    {
      "cell_type": "code",
      "metadata": {
        "id": "x_dkpKdyeHa7"
      },
      "source": [
        "number_of_bags = 500"
      ],
      "execution_count": 13,
      "outputs": []
    },
    {
      "cell_type": "markdown",
      "metadata": {
        "id": "912soeV5eHa7"
      },
      "source": [
        "The variables `cost_of_ice_bag`, `profit_margin`, and `number_of_bags` now contain the information provided in the word problem. We can check the value of a variable by typing its name into a cell. We can combine variables using arithmetic operations to create other variables.\n",
        "\n",
        "> **Code completion**: While typing the name of an existing variable in a code cell within Jupyter, just type the first few characters and press the `Tab` key to autocomplete the variable's name. Try typing `pro` in a code cell below and press `Tab` to autocomplete to `profit_margin`."
      ]
    },
    {
      "cell_type": "code",
      "metadata": {
        "colab": {
          "base_uri": "https://localhost:8080/"
        },
        "id": "uDKvYRFjeHa7",
        "outputId": "3c2d880d-a8b0-461b-dd54-4200bff756d9"
      },
      "source": [
        "profit_margin"
      ],
      "execution_count": 14,
      "outputs": [
        {
          "output_type": "execute_result",
          "data": {
            "text/plain": [
              "0.2"
            ]
          },
          "metadata": {
            "tags": []
          },
          "execution_count": 14
        }
      ]
    },
    {
      "cell_type": "code",
      "metadata": {
        "id": "u6LiK-JpeHa7"
      },
      "source": [
        "profit_per_bag = cost_of_ice_bag * profit_margin"
      ],
      "execution_count": 15,
      "outputs": []
    },
    {
      "cell_type": "code",
      "metadata": {
        "colab": {
          "base_uri": "https://localhost:8080/"
        },
        "id": "11eKexj-eHa8",
        "outputId": "8078d76a-b152-487d-baea-172d9d3ddfd7"
      },
      "source": [
        "profit_per_bag"
      ],
      "execution_count": 16,
      "outputs": [
        {
          "output_type": "execute_result",
          "data": {
            "text/plain": [
              "0.25"
            ]
          },
          "metadata": {
            "tags": []
          },
          "execution_count": 16
        }
      ]
    },
    {
      "cell_type": "code",
      "metadata": {
        "id": "tPMm7lDdeHa8"
      },
      "source": [
        "total_profit = number_of_bags * profit_per_bag"
      ],
      "execution_count": 17,
      "outputs": []
    },
    {
      "cell_type": "code",
      "metadata": {
        "colab": {
          "base_uri": "https://localhost:8080/"
        },
        "id": "HXWPkYZfeHa8",
        "outputId": "af054cb8-7d6c-4dfa-c390-49401d2c52ae"
      },
      "source": [
        "total_profit"
      ],
      "execution_count": 18,
      "outputs": [
        {
          "output_type": "execute_result",
          "data": {
            "text/plain": [
              "125.0"
            ]
          },
          "metadata": {
            "tags": []
          },
          "execution_count": 18
        }
      ]
    },
    {
      "cell_type": "markdown",
      "metadata": {
        "id": "fRUmfMkreHa8"
      },
      "source": [
        "If you try to view the value of a variable that has not been *defined*, i.e., given a value using the assignment statement `variable_name = value`, Python shows an error."
      ]
    },
    {
      "cell_type": "code",
      "metadata": {
        "colab": {
          "base_uri": "https://localhost:8080/",
          "height": 172
        },
        "id": "1oRdruSLeHa9",
        "outputId": "45454e2a-369e-4e14-fc1c-0a4e2174c455"
      },
      "source": [
        "net_profit"
      ],
      "execution_count": 19,
      "outputs": [
        {
          "output_type": "error",
          "ename": "NameError",
          "evalue": "ignored",
          "traceback": [
            "\u001b[0;31m---------------------------------------------------------------------------\u001b[0m",
            "\u001b[0;31mNameError\u001b[0m                                 Traceback (most recent call last)",
            "\u001b[0;32m<ipython-input-19-5eb2b296f798>\u001b[0m in \u001b[0;36m<module>\u001b[0;34m()\u001b[0m\n\u001b[0;32m----> 1\u001b[0;31m \u001b[0mnet_profit\u001b[0m\u001b[0;34m\u001b[0m\u001b[0;34m\u001b[0m\u001b[0m\n\u001b[0m",
            "\u001b[0;31mNameError\u001b[0m: name 'net_profit' is not defined"
          ]
        }
      ]
    },
    {
      "cell_type": "markdown",
      "metadata": {
        "id": "hL2mXsm_eHa9"
      },
      "source": [
        "Storing and manipulating data using appropriately named variables is a great way to explain what your code does.\n",
        "\n",
        "Let's display the result of the word problem using a friendly message. We can do this using the `print` *function*.\n",
        "\n",
        "> **Functions**: A function is a reusable set of instructions. It takes one or more inputs, performs certain operations, and often returns an output. Python provides many in-built functions like `print` and also allows us to define our own functions."
      ]
    },
    {
      "cell_type": "code",
      "metadata": {
        "colab": {
          "base_uri": "https://localhost:8080/"
        },
        "id": "w_7bMJiieHa9",
        "outputId": "e39f03a3-7a1d-4c4e-f70f-4bff26288f7c"
      },
      "source": [
        "print(\"The grocery store makes a total profit of $\", total_profit)"
      ],
      "execution_count": 20,
      "outputs": [
        {
          "output_type": "stream",
          "text": [
            "The grocery store makes a total profit of $ 125.0\n"
          ],
          "name": "stdout"
        }
      ]
    },
    {
      "cell_type": "markdown",
      "metadata": {
        "id": "GBvszrXSeHa-"
      },
      "source": [
        "> **`print`**: The `print` function is used to display information. It takes one or more inputs, which can be text (within quotes, e.g., `\"this is some text\"`), numbers, variables, mathematical expressions, etc. We'll learn more about variables & functions in the next tutorial.\n",
        "\n",
        "Creating a code cell for each variable or mathematical operation can get tedious. Fortunately, Jupyter allows you to write multiple lines of code within a single code cell. The result of the last line of code within the cell is displayed as the output. \n",
        "\n",
        "Let's rewrite the solution to our word problem within a single cell."
      ]
    },
    {
      "cell_type": "code",
      "metadata": {
        "colab": {
          "base_uri": "https://localhost:8080/"
        },
        "id": "4IfFSoEJeHa-",
        "outputId": "1262b796-e6ea-47bf-cccc-037227f6dc39"
      },
      "source": [
        "# Store input data in variables\n",
        "cost_of_ice_bag = 1.25\n",
        "profit_margin = .2\n",
        "number_of_bags = 500\n",
        "\n",
        "# Perform the required calculations\n",
        "profit_per_bag = cost_of_ice_bag * profit_margin\n",
        "total_profit = number_of_bags * profit_per_bag\n",
        "\n",
        "# Display the result\n",
        "print(\"The grocery store makes a total profit of $\", total_profit)"
      ],
      "execution_count": 21,
      "outputs": [
        {
          "output_type": "stream",
          "text": [
            "The grocery store makes a total profit of $ 125.0\n"
          ],
          "name": "stdout"
        }
      ]
    },
    {
      "cell_type": "markdown",
      "metadata": {
        "id": "VblTM5WNeHa_"
      },
      "source": [
        "Note that we're using the `#` character to add *comments* within our code. \n",
        "\n",
        "> **Comments**: Comments and blank lines are ignored during execution, but they are useful for providing information to humans (including yourself) about what the code does. Comments can be inline (at the end of some code), on a separate line, or even span multiple lines. \n",
        "\n",
        "Inline and single-line comments start with `#`, whereas multi-line comments begin and end with three quotes, i.e. `\"\"\"`. Here are some examples of code comments:"
      ]
    },
    {
      "cell_type": "code",
      "metadata": {
        "id": "7CK8HiFBeHbA"
      },
      "source": [
        "my_favorite_number = 1 # an inline comment"
      ],
      "execution_count": 22,
      "outputs": []
    },
    {
      "cell_type": "code",
      "metadata": {
        "id": "WGDdHcxZeHbA"
      },
      "source": [
        "# This comment gets its own line\n",
        "my_least_favorite_number = 3"
      ],
      "execution_count": 23,
      "outputs": []
    },
    {
      "cell_type": "code",
      "metadata": {
        "id": "xz4IA2KaeHbA"
      },
      "source": [
        "\"\"\"This is a multi-line comment.\n",
        "Write as little or as much as you'd like.\n",
        "\n",
        "Comments are really helpful for people reading\n",
        "your code, but try to keep them short & to-the-point.\n",
        "\n",
        "Also, if you use good variable names, then your code is\n",
        "often self explanatory, and you may not even need comments!\n",
        "\"\"\"\n",
        "a_neutral_number = 5"
      ],
      "execution_count": 24,
      "outputs": []
    },
    {
      "cell_type": "markdown",
      "metadata": {
        "id": "U4vmxlW-eHbB"
      },
      "source": [
        "## Evaluating conditions using Python\n",
        "\n",
        "Apart from arithmetic operations, Python also provides several operations for comparing numbers & variables.\n",
        "\n",
        "| Operator    | Description                                                     |\n",
        "|-------------|-----------------------------------------------------------------|\n",
        "| `==`        | Check if operands are equal                                     |\n",
        "| `!=`        | Check if operands are not equal                                 |\n",
        "| `>`         | Check if left operand is greater than right operand             |\n",
        "| `<`         | Check if left operand is less than right operand                |\n",
        "| `>=`        | Check if left operand is greater than or equal to right operand |\n",
        "| `<=`        | Check if left operand is less than or equal to right operand    |\n",
        "\n",
        "The result of a comparison operation is either `True` or `False` (note the uppercase `T` and `F`). These are special keywords in Python. Let's try out some experiments with comparison operators."
      ]
    },
    {
      "cell_type": "code",
      "metadata": {
        "id": "DHUN8x9eeHbB"
      },
      "source": [
        "my_favorite_number = 1\n",
        "my_least_favorite_number = 5\n",
        "a_neutral_number = 3"
      ],
      "execution_count": 25,
      "outputs": []
    },
    {
      "cell_type": "code",
      "metadata": {
        "colab": {
          "base_uri": "https://localhost:8080/"
        },
        "id": "0ggwMlY7eHbC",
        "outputId": "4a647b30-fc9d-4f93-8741-a9915f057ba4"
      },
      "source": [
        "# Equality check - True\n",
        "my_favorite_number == 1"
      ],
      "execution_count": 26,
      "outputs": [
        {
          "output_type": "execute_result",
          "data": {
            "text/plain": [
              "True"
            ]
          },
          "metadata": {
            "tags": []
          },
          "execution_count": 26
        }
      ]
    },
    {
      "cell_type": "code",
      "metadata": {
        "colab": {
          "base_uri": "https://localhost:8080/"
        },
        "id": "FsAvTWAqeHbC",
        "outputId": "c918e601-da56-4f87-f8a4-f0bbd9101155"
      },
      "source": [
        "# Equality check - False\n",
        "my_favorite_number == my_least_favorite_number"
      ],
      "execution_count": 27,
      "outputs": [
        {
          "output_type": "execute_result",
          "data": {
            "text/plain": [
              "False"
            ]
          },
          "metadata": {
            "tags": []
          },
          "execution_count": 27
        }
      ]
    },
    {
      "cell_type": "code",
      "metadata": {
        "colab": {
          "base_uri": "https://localhost:8080/"
        },
        "id": "e-s6_fhoeHbD",
        "outputId": "51d0c086-b634-42e3-e930-7eaca363be7c"
      },
      "source": [
        "# Not equal check - True\n",
        "my_favorite_number != a_neutral_number"
      ],
      "execution_count": 28,
      "outputs": [
        {
          "output_type": "execute_result",
          "data": {
            "text/plain": [
              "True"
            ]
          },
          "metadata": {
            "tags": []
          },
          "execution_count": 28
        }
      ]
    },
    {
      "cell_type": "code",
      "metadata": {
        "colab": {
          "base_uri": "https://localhost:8080/"
        },
        "id": "rgJA9OWbeHbD",
        "outputId": "99d87b6c-e220-4ac5-ffbb-681cd9a5a9c0"
      },
      "source": [
        "# Not equal check - False\n",
        "a_neutral_number != 3"
      ],
      "execution_count": 29,
      "outputs": [
        {
          "output_type": "execute_result",
          "data": {
            "text/plain": [
              "False"
            ]
          },
          "metadata": {
            "tags": []
          },
          "execution_count": 29
        }
      ]
    },
    {
      "cell_type": "code",
      "metadata": {
        "colab": {
          "base_uri": "https://localhost:8080/"
        },
        "id": "IaMF-9tdeHbE",
        "outputId": "024f2f3a-3b86-4cc1-89e6-ba6db98b2b51"
      },
      "source": [
        "# Greater than check - True\n",
        "my_least_favorite_number > a_neutral_number"
      ],
      "execution_count": 30,
      "outputs": [
        {
          "output_type": "execute_result",
          "data": {
            "text/plain": [
              "True"
            ]
          },
          "metadata": {
            "tags": []
          },
          "execution_count": 30
        }
      ]
    },
    {
      "cell_type": "code",
      "metadata": {
        "colab": {
          "base_uri": "https://localhost:8080/"
        },
        "id": "vjLC6WLKeHbE",
        "outputId": "6010a9e3-e764-4086-f2e7-5e7d9185b177"
      },
      "source": [
        "# Greater than check - False\n",
        "my_favorite_number > my_least_favorite_number"
      ],
      "execution_count": 31,
      "outputs": [
        {
          "output_type": "execute_result",
          "data": {
            "text/plain": [
              "False"
            ]
          },
          "metadata": {
            "tags": []
          },
          "execution_count": 31
        }
      ]
    },
    {
      "cell_type": "code",
      "metadata": {
        "colab": {
          "base_uri": "https://localhost:8080/"
        },
        "id": "MpEVQkGPeHbF",
        "outputId": "dad18822-6de3-4ed3-d35e-bc1a60092ca3"
      },
      "source": [
        "# Less than check - True\n",
        "my_favorite_number < 10"
      ],
      "execution_count": 32,
      "outputs": [
        {
          "output_type": "execute_result",
          "data": {
            "text/plain": [
              "True"
            ]
          },
          "metadata": {
            "tags": []
          },
          "execution_count": 32
        }
      ]
    },
    {
      "cell_type": "code",
      "metadata": {
        "colab": {
          "base_uri": "https://localhost:8080/"
        },
        "id": "-vwp6EgOeHbF",
        "outputId": "d9d35520-19ce-489e-c81d-eff54b34aac1"
      },
      "source": [
        "# Less than check - False\n",
        "my_least_favorite_number < my_favorite_number"
      ],
      "execution_count": 33,
      "outputs": [
        {
          "output_type": "execute_result",
          "data": {
            "text/plain": [
              "False"
            ]
          },
          "metadata": {
            "tags": []
          },
          "execution_count": 33
        }
      ]
    },
    {
      "cell_type": "code",
      "metadata": {
        "colab": {
          "base_uri": "https://localhost:8080/"
        },
        "id": "qIcMjrWCeHbF",
        "outputId": "45254ced-6dd4-4ca3-ea1f-eeaf8a76627d"
      },
      "source": [
        "# Greater than or equal check - True\n",
        "my_favorite_number >= 1"
      ],
      "execution_count": 34,
      "outputs": [
        {
          "output_type": "execute_result",
          "data": {
            "text/plain": [
              "True"
            ]
          },
          "metadata": {
            "tags": []
          },
          "execution_count": 34
        }
      ]
    },
    {
      "cell_type": "code",
      "metadata": {
        "colab": {
          "base_uri": "https://localhost:8080/"
        },
        "id": "sdrMJdQ2eHbG",
        "outputId": "f860e05f-9319-4b89-86ba-cf381dd3e53d"
      },
      "source": [
        "# Greater than or equal check - False\n",
        "my_favorite_number >= 3"
      ],
      "execution_count": 35,
      "outputs": [
        {
          "output_type": "execute_result",
          "data": {
            "text/plain": [
              "False"
            ]
          },
          "metadata": {
            "tags": []
          },
          "execution_count": 35
        }
      ]
    },
    {
      "cell_type": "code",
      "metadata": {
        "colab": {
          "base_uri": "https://localhost:8080/"
        },
        "id": "e-P1EpFdeHbG",
        "outputId": "edb0133e-c6f1-4ac5-9f0f-e2fbe30b411d"
      },
      "source": [
        "# Less than or equal check - True\n",
        "3 + 6 <= 9"
      ],
      "execution_count": 36,
      "outputs": [
        {
          "output_type": "execute_result",
          "data": {
            "text/plain": [
              "True"
            ]
          },
          "metadata": {
            "tags": []
          },
          "execution_count": 36
        }
      ]
    },
    {
      "cell_type": "code",
      "metadata": {
        "colab": {
          "base_uri": "https://localhost:8080/"
        },
        "id": "xWSKJSX3eHbG",
        "outputId": "33bee189-e802-4ffc-96d2-d0db2a613433"
      },
      "source": [
        "# Less than or equal check - False\n",
        "my_favorite_number + a_neutral_number <= 3"
      ],
      "execution_count": 37,
      "outputs": [
        {
          "output_type": "execute_result",
          "data": {
            "text/plain": [
              "False"
            ]
          },
          "metadata": {
            "tags": []
          },
          "execution_count": 37
        }
      ]
    },
    {
      "cell_type": "markdown",
      "metadata": {
        "id": "fNGSRsrleHbH"
      },
      "source": [
        "Just like arithmetic operations, the result of a comparison operation can also be stored in a variable."
      ]
    },
    {
      "cell_type": "code",
      "metadata": {
        "colab": {
          "base_uri": "https://localhost:8080/"
        },
        "id": "JjXOSq8xeHbH",
        "outputId": "7c93822a-f103-4e23-9119-73d71c041f9b"
      },
      "source": [
        "cost_of_ice_bag = 1.25\n",
        "is_ice_bag_expensive = cost_of_ice_bag >= 10\n",
        "print(\"Is the ice bag expensive?\", is_ice_bag_expensive)"
      ],
      "execution_count": 38,
      "outputs": [
        {
          "output_type": "stream",
          "text": [
            "Is the ice bag expensive? False\n"
          ],
          "name": "stdout"
        }
      ]
    },
    {
      "cell_type": "markdown",
      "metadata": {
        "id": "KB--C0NYeHbH"
      },
      "source": [
        "## Combining conditions with logical operators\n",
        "\n",
        "The logical operators `and`, `or` and `not` operate upon conditions and `True` & `False` values (also known as *booleans*). `and` and `or` operate on two conditions, whereas `not` operates on a single condition.\n",
        "\n",
        "The `and` operator returns `True` when both the conditions evaluate to `True`. Otherwise, it returns `False`.\n",
        "\n",
        "| `a`     | `b`    | `a and b` |\n",
        "|---------|--------|-----------|\n",
        "|  `True` | `True` | `True`    |\n",
        "|  `True` | `False`| `False`   |\n",
        "|  `False`| `True` | `False`   |\n",
        "|  `False`| `False`| `False`   |\n"
      ]
    },
    {
      "cell_type": "code",
      "metadata": {
        "colab": {
          "base_uri": "https://localhost:8080/"
        },
        "id": "Cd1LiVgreHbH",
        "scrolled": true,
        "outputId": "130d1aa0-0426-4977-f551-1b16e617e144"
      },
      "source": [
        "my_favorite_number"
      ],
      "execution_count": 39,
      "outputs": [
        {
          "output_type": "execute_result",
          "data": {
            "text/plain": [
              "1"
            ]
          },
          "metadata": {
            "tags": []
          },
          "execution_count": 39
        }
      ]
    },
    {
      "cell_type": "code",
      "metadata": {
        "colab": {
          "base_uri": "https://localhost:8080/"
        },
        "id": "CewQLAK1eHbI",
        "outputId": "07e32223-39b8-4fff-9a36-62f65ec4ca0a"
      },
      "source": [
        "my_favorite_number > 0 and my_favorite_number <= 3"
      ],
      "execution_count": 40,
      "outputs": [
        {
          "output_type": "execute_result",
          "data": {
            "text/plain": [
              "True"
            ]
          },
          "metadata": {
            "tags": []
          },
          "execution_count": 40
        }
      ]
    },
    {
      "cell_type": "code",
      "metadata": {
        "colab": {
          "base_uri": "https://localhost:8080/"
        },
        "id": "qJKXNmBPeHbI",
        "outputId": "c6e1f516-3101-4481-a11a-57775c145012"
      },
      "source": [
        "my_favorite_number < 0 and my_favorite_number <= 3"
      ],
      "execution_count": 41,
      "outputs": [
        {
          "output_type": "execute_result",
          "data": {
            "text/plain": [
              "False"
            ]
          },
          "metadata": {
            "tags": []
          },
          "execution_count": 41
        }
      ]
    },
    {
      "cell_type": "code",
      "metadata": {
        "colab": {
          "base_uri": "https://localhost:8080/"
        },
        "id": "q5krps74eHbI",
        "outputId": "59fb81bc-ef66-4a90-9774-1e11d5a9e242"
      },
      "source": [
        "my_favorite_number > 0 and my_favorite_number >= 3"
      ],
      "execution_count": 42,
      "outputs": [
        {
          "output_type": "execute_result",
          "data": {
            "text/plain": [
              "False"
            ]
          },
          "metadata": {
            "tags": []
          },
          "execution_count": 42
        }
      ]
    },
    {
      "cell_type": "code",
      "metadata": {
        "colab": {
          "base_uri": "https://localhost:8080/"
        },
        "id": "2-DhR7GueHbI",
        "outputId": "c83aac7c-5276-4005-aeb4-0038d71ccbd6"
      },
      "source": [
        "True and False"
      ],
      "execution_count": 43,
      "outputs": [
        {
          "output_type": "execute_result",
          "data": {
            "text/plain": [
              "False"
            ]
          },
          "metadata": {
            "tags": []
          },
          "execution_count": 43
        }
      ]
    },
    {
      "cell_type": "code",
      "metadata": {
        "colab": {
          "base_uri": "https://localhost:8080/"
        },
        "id": "Hkg-Jv00eHbJ",
        "outputId": "c942cad5-47af-4fae-95f7-292f526e29c8"
      },
      "source": [
        "True and True"
      ],
      "execution_count": 44,
      "outputs": [
        {
          "output_type": "execute_result",
          "data": {
            "text/plain": [
              "True"
            ]
          },
          "metadata": {
            "tags": []
          },
          "execution_count": 44
        }
      ]
    },
    {
      "cell_type": "markdown",
      "metadata": {
        "id": "zrIzX4UEeHbJ"
      },
      "source": [
        "The `or` operator returns `True` if at least one of the conditions evaluates to `True`. It returns `False` only if both conditions are `False`.\n",
        "\n",
        "| `a`     | `b`    | `a or b`  |\n",
        "|---------|--------|-----------|\n",
        "|  `True` | `True` | `True`    |\n",
        "|  `True` | `False`| `True`    |\n",
        "|  `False`| `True` | `True`    |\n",
        "|  `False`| `False`| `False`   |\n",
        "\n"
      ]
    },
    {
      "cell_type": "code",
      "metadata": {
        "id": "2aMet9aNeHbJ"
      },
      "source": [
        "a_neutral_number = 3"
      ],
      "execution_count": 45,
      "outputs": []
    },
    {
      "cell_type": "code",
      "metadata": {
        "colab": {
          "base_uri": "https://localhost:8080/"
        },
        "id": "Ng-IhAlneHbJ",
        "outputId": "9203834d-7376-4866-c206-810ee5bbf5dc"
      },
      "source": [
        "a_neutral_number == 3 or my_favorite_number < 0"
      ],
      "execution_count": 46,
      "outputs": [
        {
          "output_type": "execute_result",
          "data": {
            "text/plain": [
              "True"
            ]
          },
          "metadata": {
            "tags": []
          },
          "execution_count": 46
        }
      ]
    },
    {
      "cell_type": "code",
      "metadata": {
        "colab": {
          "base_uri": "https://localhost:8080/"
        },
        "id": "OeboqfXDeHbK",
        "outputId": "d74597c1-cc13-4486-ec54-4571e161d88c"
      },
      "source": [
        "a_neutral_number != 3 or my_favorite_number < 0"
      ],
      "execution_count": 47,
      "outputs": [
        {
          "output_type": "execute_result",
          "data": {
            "text/plain": [
              "False"
            ]
          },
          "metadata": {
            "tags": []
          },
          "execution_count": 47
        }
      ]
    },
    {
      "cell_type": "code",
      "metadata": {
        "colab": {
          "base_uri": "https://localhost:8080/"
        },
        "id": "BBAFdhlKeHbK",
        "outputId": "b17e2a3b-01af-4139-9c7f-2d8505f6012c"
      },
      "source": [
        "my_favorite_number < 0 or True"
      ],
      "execution_count": 48,
      "outputs": [
        {
          "output_type": "execute_result",
          "data": {
            "text/plain": [
              "True"
            ]
          },
          "metadata": {
            "tags": []
          },
          "execution_count": 48
        }
      ]
    },
    {
      "cell_type": "code",
      "metadata": {
        "colab": {
          "base_uri": "https://localhost:8080/"
        },
        "id": "48v7bqSSeHbK",
        "outputId": "d4853f68-4ce7-4d54-d14a-c32e3a2bce86"
      },
      "source": [
        "False or False"
      ],
      "execution_count": 49,
      "outputs": [
        {
          "output_type": "execute_result",
          "data": {
            "text/plain": [
              "False"
            ]
          },
          "metadata": {
            "tags": []
          },
          "execution_count": 49
        }
      ]
    },
    {
      "cell_type": "markdown",
      "metadata": {
        "id": "NsguMlEgeHbK"
      },
      "source": [
        "The `not` operator returns `False` if a condition is `True` and `True` if the condition is `False`."
      ]
    },
    {
      "cell_type": "code",
      "metadata": {
        "colab": {
          "base_uri": "https://localhost:8080/"
        },
        "id": "1Crba350eHbL",
        "outputId": "18b2b9b3-b1c4-4e00-b7a1-182caacbda26"
      },
      "source": [
        "not a_neutral_number == 3"
      ],
      "execution_count": 50,
      "outputs": [
        {
          "output_type": "execute_result",
          "data": {
            "text/plain": [
              "False"
            ]
          },
          "metadata": {
            "tags": []
          },
          "execution_count": 50
        }
      ]
    },
    {
      "cell_type": "code",
      "metadata": {
        "colab": {
          "base_uri": "https://localhost:8080/"
        },
        "id": "s5J1EZJaeHbL",
        "outputId": "6050e89d-e800-4158-a91f-448384310351"
      },
      "source": [
        "not my_favorite_number < 0"
      ],
      "execution_count": 51,
      "outputs": [
        {
          "output_type": "execute_result",
          "data": {
            "text/plain": [
              "True"
            ]
          },
          "metadata": {
            "tags": []
          },
          "execution_count": 51
        }
      ]
    },
    {
      "cell_type": "code",
      "metadata": {
        "colab": {
          "base_uri": "https://localhost:8080/"
        },
        "id": "SLm5XKLQeHbL",
        "outputId": "5502a802-e7aa-42e7-cad6-a480a3d30abd"
      },
      "source": [
        "not False"
      ],
      "execution_count": 52,
      "outputs": [
        {
          "output_type": "execute_result",
          "data": {
            "text/plain": [
              "True"
            ]
          },
          "metadata": {
            "tags": []
          },
          "execution_count": 52
        }
      ]
    },
    {
      "cell_type": "code",
      "metadata": {
        "colab": {
          "base_uri": "https://localhost:8080/"
        },
        "id": "klAMAIT4eHbL",
        "outputId": "c3c984a8-9f66-416b-dbf0-c8313b8ed56e"
      },
      "source": [
        "not True"
      ],
      "execution_count": 53,
      "outputs": [
        {
          "output_type": "execute_result",
          "data": {
            "text/plain": [
              "False"
            ]
          },
          "metadata": {
            "tags": []
          },
          "execution_count": 53
        }
      ]
    },
    {
      "cell_type": "markdown",
      "metadata": {
        "id": "BguLpCpbeHbM"
      },
      "source": [
        "Logical operators can be combined to form complex conditions. Use round brackets or parentheses `(` and `)` to indicate the order in which logical operators should be applied."
      ]
    },
    {
      "cell_type": "code",
      "metadata": {
        "colab": {
          "base_uri": "https://localhost:8080/"
        },
        "id": "Feqqg9zxeHbM",
        "outputId": "185c17f1-37dd-4e7b-d727-9ba96aecec96"
      },
      "source": [
        "(2 > 3 and 4 <= 5) or not (my_favorite_number < 0 and True)"
      ],
      "execution_count": 54,
      "outputs": [
        {
          "output_type": "execute_result",
          "data": {
            "text/plain": [
              "True"
            ]
          },
          "metadata": {
            "tags": []
          },
          "execution_count": 54
        }
      ]
    },
    {
      "cell_type": "code",
      "metadata": {
        "colab": {
          "base_uri": "https://localhost:8080/"
        },
        "id": "Q19QD2WaeHbM",
        "outputId": "cc771058-4b01-48e0-9965-500e0d3f34ea"
      },
      "source": [
        "not (True and 0 < 1) or (False and True)"
      ],
      "execution_count": 55,
      "outputs": [
        {
          "output_type": "execute_result",
          "data": {
            "text/plain": [
              "False"
            ]
          },
          "metadata": {
            "tags": []
          },
          "execution_count": 55
        }
      ]
    },
    {
      "cell_type": "markdown",
      "metadata": {
        "id": "XK7L06fheHbN"
      },
      "source": [
        "If parentheses are not used, logical operators are applied from left to right."
      ]
    },
    {
      "cell_type": "code",
      "metadata": {
        "colab": {
          "base_uri": "https://localhost:8080/"
        },
        "id": "qtf4I5AIeHbN",
        "outputId": "bc66bca1-bd25-4136-b4ba-e3456abe7881"
      },
      "source": [
        "not True and 0 < 1 or False and True"
      ],
      "execution_count": 56,
      "outputs": [
        {
          "output_type": "execute_result",
          "data": {
            "text/plain": [
              "False"
            ]
          },
          "metadata": {
            "tags": []
          },
          "execution_count": 56
        }
      ]
    },
    {
      "cell_type": "markdown",
      "metadata": {
        "id": "fZ0dwSUMeHbN"
      },
      "source": [
        "Experiment with arithmetic, conditional and logical operators in Python using the interactive nature of Jupyter notebooks. We will learn more about variables and functions in future tutorials."
      ]
    },
    {
      "cell_type": "markdown",
      "metadata": {
        "id": "Py0iY06HeHbN"
      },
      "source": [
        "## Adding text styles using Markdown\n",
        "\n",
        "Adding explanations using text cells (like this one) is a great way to make your notebook informative for other readers. It is also useful if you need to refer back to it in the future. You can double click on a text cell within Jupyter to edit it. In the edit mode, you'll notice that the text looks slightly different (for instance, the heading has a `##` prefix. This text is written using Markdown, a simple way to add styles to your text. Execute this cell to see the output without the special characters. You can switch back and forth between the source and the output to apply a specific style.\n",
        "\n",
        "For instance, you can use one or more `#` characters at the start of a line to create headers of different sizes:\n",
        "\n",
        "# Header 1\n",
        "\n",
        "## Header 2\n",
        "\n",
        "### Header 3\n",
        "\n",
        "#### Header 4\n",
        "\n",
        "To create a bulleted or numbered list, simply start a line with `*` or `1.`.\n",
        "\n",
        "A bulleted list:\n",
        "\n",
        "* Item 1\n",
        "* Item 2\n",
        "* Item 3\n",
        "\n",
        "A numbered list:\n",
        "\n",
        "1. Apple\n",
        "2. Banana\n",
        "3. Pineapple\n",
        "\n",
        "You can make some text bold using `**`, e.g., **some bold text**, or make it italic using `*`, e.g., *some italic text.* You can also create links, e.g., [a link](https://jovian.ai). Images are easily embedded too:\n",
        "\n",
        "![](https://i.imgur.com/3gjZMYK.png)\n",
        "\n",
        "Another really nice feature of Markdown is the ability to include blocks of code. Note that code blocks inside Markdown cells cannot be executed.\n",
        "\n",
        "```\n",
        "# Perform the required calculations\n",
        "profit_per_bag = cost_of_ice_bag * profit_margin\n",
        "total_profit = number_of_bags * profit_per_bag\n",
        "\n",
        "# Display the result\n",
        "print(\"The grocery store makes a total profit of $\", total_profit)\n",
        "\n",
        "```\n",
        "\n",
        "You can learn the full syntax of Markdown here: https://learnxinyminutes.com/docs/markdown/"
      ]
    },
    {
      "cell_type": "markdown",
      "metadata": {
        "id": "egQVjcoreHbN"
      },
      "source": [
        "## Save and upload your notebook\n",
        "\n",
        "Whether you're running this Jupyter notebook online or on your computer, it's essential to save your work from time to time. You can continue working on a saved notebook later or share it with friends and colleagues to let them execute your code. [Jovian](https://jovian.ai/platform-features) offers an easy way of saving and sharing your Jupyter notebooks online.\n",
        "\n",
        "First, you need to install the Jovian python library if it isn't already installed."
      ]
    },
    {
      "cell_type": "code",
      "metadata": {
        "id": "ZRzexmlSeHbO"
      },
      "source": [
        "!pip install jovian --upgrade --quiet"
      ],
      "execution_count": 57,
      "outputs": []
    },
    {
      "cell_type": "markdown",
      "metadata": {
        "id": "qrbM3b1DeHbO"
      },
      "source": [
        "Next, the library needs to be imported."
      ]
    },
    {
      "cell_type": "code",
      "metadata": {
        "id": "1q-qsLm8eHbO"
      },
      "source": [
        "import jovian"
      ],
      "execution_count": 58,
      "outputs": []
    },
    {
      "cell_type": "markdown",
      "metadata": {
        "id": "3x29JuhieHbO"
      },
      "source": [
        "Finally, you can run `jovian.commit` to capture and upload a snapshot of the notebook."
      ]
    },
    {
      "cell_type": "code",
      "metadata": {
        "colab": {
          "base_uri": "https://localhost:8080/",
          "height": 128
        },
        "id": "MMmXXFPIeHbO",
        "outputId": "18591035-bd1d-4992-e222-77ced944e07e"
      },
      "source": [
        "jovian.commit(project='first-steps-with-python')"
      ],
      "execution_count": 59,
      "outputs": [
        {
          "output_type": "stream",
          "text": [
            "[jovian] Detected Colab notebook...\u001b[0m\n",
            "[jovian] Please enter your API key ( from https://jovian.ai/ ):\u001b[0m\n",
            "API KEY: ··········\n",
            "[jovian] Uploading colab notebook to Jovian...\u001b[0m\n",
            "Committed successfully! https://jovian.ai/f20200114/first-steps-with-python\n"
          ],
          "name": "stdout"
        },
        {
          "output_type": "execute_result",
          "data": {
            "application/vnd.google.colaboratory.intrinsic+json": {
              "type": "string"
            },
            "text/plain": [
              "'https://jovian.ai/f20200114/first-steps-with-python'"
            ]
          },
          "metadata": {
            "tags": []
          },
          "execution_count": 59
        }
      ]
    },
    {
      "cell_type": "markdown",
      "metadata": {
        "id": "edKTSG6oeHbP"
      },
      "source": [
        "The first time you run `jovian.commit`, you'll be asked to provide an _API Key_ to securely upload the notebook to your Jovian account. You can get the API key from your [Jovian profile page](https://jovian.ai) after logging in / signing up.\n",
        "\n",
        "<img src=\"https://i.imgur.com/taLLUVd.png\" width=\"480\">\n",
        "\n",
        "`jovian.commit` uploads the notebook to your Jovian account, captures the Python environment, and creates a shareable link for your notebook, as shown above. You can use this link to share your work and let anyone (including you) run your notebooks and reproduce your work. Jovian also includes a powerful commenting interface, so you can discuss & comment on specific parts of your notebook:\n",
        "\n",
        "![https://jovian.ai/docs/user-guide/upload.html](https://i.imgur.com/kxx3pqM.png)\n",
        "\n",
        "You can do a lot more with the `jovian` Python library. Visit the documentation site to learn more: https://jovian.ai/docs/index.html"
      ]
    },
    {
      "cell_type": "markdown",
      "metadata": {
        "id": "dF5YRTo8eHbP"
      },
      "source": [
        "## Further Reading and References\n",
        "\n",
        "Following are some resources where you can learn about more arithmetic, conditional and logical operations in Python:\n",
        "\n",
        "* Python Tutorial at W3Schools: https://www.w3schools.com/python/\n",
        "* Practical Python Programming: https://dabeaz-course.github.io/practical-python/Notes/Contents.html\n",
        "* Python official documentation: https://docs.python.org/3/tutorial/index.html\n",
        "\n",
        "Now that you have taken your first steps with Python, you are ready to move on to the next tutorial: [\"A Quick Tour of Variables and Data Types in Python\"](https://jovian.ml/aakashns/python-variables-and-data-types)."
      ]
    },
    {
      "cell_type": "markdown",
      "metadata": {
        "id": "nrHAnEtWeHbP"
      },
      "source": [
        "## Questions for Revision\n",
        "\n",
        "Try answering the following questions to test your understanding of the topics covered in this notebook:\n",
        "\n",
        "1. What is a Jupyter notebook? \n",
        "2. How do you add a new code cell below an existing cell?\n",
        "3. How do you add a new Markdown cell below an existing cell?\n",
        "4. How do you convert a code cell to a Markdown cell or vice versa?\n",
        "5. How do you execute a code cell within Jupyter?\n",
        "6. What the different arithmetic operations supported in Python?\n",
        "7. How do you perform arithmetic operations using Python?\n",
        "8. What is the difference between the `/` and the `//` operators?\n",
        "9. What is the difference between the `*` and the `**` operators?\n",
        "10. What is the order of precedence for arithmetic operators in Python?\n",
        "11. How do you specify the order in which arithmetic operations are performed in an expression involving multiple operators?\n",
        "12. How do you solve a multi-step arithmetic word problem using Python?\n",
        "13. What are variables? Why are they useful?\n",
        "14. How do you create a variable in Python?\n",
        "15. What is the assignment operator in Python?\n",
        "16. What are the rules for naming a variable in Python?\n",
        "17. How do you view the value of a variable?\n",
        "18. How do you store the result of an arithmetic expression in a variable?\n",
        "19. What happens if you try to access a variable that has not been defined?\n",
        "20. How do you display messages in Python?\n",
        "21. What types of inputs can the print function accept?\n",
        "22. What are code comments? How are they useful?\n",
        "23. What are the different ways of creating comments in Python code?\n",
        "24. What are the different comparison operations supported in Python?\n",
        "25. What is the result of a comparison operation?\n",
        "26. What is the difference between `=` and `==` in Python?\n",
        "27. What are the logical operators supported in Python?\n",
        "28. What is the difference between the `and` and `or` operators?\n",
        "29. Can you use comparison and logical operators in the same expression?\n",
        "30. What is the purpose of using parentheses in arithmetic or logical expressions?\n",
        "31. What is Markdown? Why is it useful?\n",
        "32. How do you create headings of different sizes using Markdown?\n",
        "33. How do you create bulleted and numbered lists using Markdown?\n",
        "34. How do you create bold or italic text using Markdown?\n",
        "35. How do you include links & images within Markdown cells?\n",
        "36. How do you include code blocks within Markdown cells?\n",
        "37. Is it possible to execute the code blocks within Markdown cells?\n",
        "38. How do you upload and share your Jupyter notebook online using Jovian?\n",
        "39. What is the purpose of the API key requested by jovian.commit ? Where can you find the API key?\n",
        "40. Where can you learn about arithmetic, conditional and logical operations in Python?\n"
      ]
    }
  ]
}